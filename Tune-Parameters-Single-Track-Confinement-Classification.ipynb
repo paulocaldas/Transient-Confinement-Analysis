{
 "cells": [
  {
   "cell_type": "markdown",
   "metadata": {},
   "source": [
    "<hr>\n",
    "\n",
    "## Tune Parameters: Window Size and Coefficient Ratio (p) Threshold\n",
    "\n",
    "- In this notebook you can Inspect Tracks Individually and Tune Parameters\n",
    "- Load an XML File containing trajectories and select a random track (i)\n",
    "- min_track_len discards trajectories shorter than this value (in frames) when reading the XML file\n",
    "- Tune the Confinement Ratio Threshold (p_thres) and the Rolling Window Size (w): peaks above the threshold suggest confinement\n",
    "- Run the analysis for a Single Track using this p_thres and w: Check out the confined events in red.\n",
    "- t_thres is the minimum time (in sec) a confined event needs to last to be consideredred\n",
    "\n",
    "<hr>"
   ]
  },
  {
   "cell_type": "markdown",
   "metadata": {},
   "source": [
    "### Read File"
   ]
  },
  {
   "cell_type": "code",
   "execution_count": null,
   "metadata": {},
   "outputs": [],
   "source": [
    "file = 'trajectories-examples/LA_Time_Lapse_23.06.2021_12_57_25_Exp3_51ms_p2_Tracks.xml'\n",
    "min_track_len = 300\n",
    "\n",
    "from bkg_func import main, utils, conf_ratio_func\n",
    "all_tracks, frame_rate, n_tracks = main.ReadTracks(file, minlen = min_track_len)"
   ]
  },
  {
   "cell_type": "markdown",
   "metadata": {},
   "source": [
    "### Track Selection"
   ]
  },
  {
   "cell_type": "code",
   "execution_count": null,
   "metadata": {},
   "outputs": [],
   "source": [
    "i = 32\n",
    "\n",
    "track = utils.SingleTrack(all_tracks, i)\n",
    "utils.plotSingleTrack(track)"
   ]
  },
  {
   "cell_type": "markdown",
   "metadata": {},
   "source": [
    "### Tune Confinement Ratio Threshold and Rolling Window Size"
   ]
  },
  {
   "cell_type": "code",
   "execution_count": null,
   "metadata": {},
   "outputs": [],
   "source": [
    "windows = [5, 8, 12]\n",
    "p_thres = 1500\n",
    "\n",
    "conf_ratios = conf_ratio_func.TuneConfinementThreshold(track, frame_rate, conf_thres = p_thres, windows = windows)\n",
    "conf_ratio_func.PlotParameterTunnig(conf_ratios, thres = p_thres, ylim = 12000)"
   ]
  },
  {
   "cell_type": "markdown",
   "metadata": {},
   "source": [
    "### Inspect Confined Region"
   ]
  },
  {
   "cell_type": "code",
   "execution_count": null,
   "metadata": {},
   "outputs": [],
   "source": [
    "start_point = 100\n",
    "end_point = 200\n",
    "\n",
    "utils.plotSingleTrack(track, start = start_point, end = end_point)"
   ]
  },
  {
   "cell_type": "markdown",
   "metadata": {},
   "source": [
    "## Subtrajectory Classification overview"
   ]
  },
  {
   "cell_type": "code",
   "execution_count": null,
   "metadata": {},
   "outputs": [],
   "source": [
    "trackID = 32\n",
    "p_thres = 500\n",
    "t_thres = 0.5\n",
    "window = 5\n",
    "\n",
    "track_score, stats = main.TrajectoryClassification(all_tracks, trackID, p_thres, window, frame_rate, t_thres)"
   ]
  },
  {
   "cell_type": "markdown",
   "metadata": {},
   "source": [
    "<hr>"
   ]
  }
 ],
 "metadata": {
  "kernelspec": {
   "display_name": "Python 3",
   "language": "python",
   "name": "python3"
  },
  "language_info": {
   "codemirror_mode": {
    "name": "ipython",
    "version": 3
   },
   "file_extension": ".py",
   "mimetype": "text/x-python",
   "name": "python",
   "nbconvert_exporter": "python",
   "pygments_lexer": "ipython3",
   "version": "3.8.5"
  }
 },
 "nbformat": 4,
 "nbformat_minor": 4
}
