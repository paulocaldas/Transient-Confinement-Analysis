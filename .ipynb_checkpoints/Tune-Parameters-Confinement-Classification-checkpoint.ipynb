{
 "cells": [
  {
   "cell_type": "markdown",
   "metadata": {},
   "source": [
    "\n",
    "## Tune Parameters for Confinement Classification\n",
    "***In this notebook we inspect individual trajectories and tune parameters***\n",
    "\n",
    "<hr>"
   ]
  },
  {
   "cell_type": "markdown",
   "metadata": {},
   "source": [
    "### Read File\n",
    "*import an xml file containing trajectories*"
   ]
  },
  {
   "cell_type": "code",
   "execution_count": null,
   "metadata": {},
   "outputs": [],
   "source": [
    "file = 'C:/Users/comics/Desktop/IST Austria/trajectory_segmentation_confinementRatio_2021/simulations/Simulation 4_32ms_Tracks.xml'\n",
    "min_track_len = 200\n",
    "\n",
    "from bkg_func import main, utils, conf_ratio_func\n",
    "all_tracks, frame_rate, n_tracks = main.ReadTracks(file, minlen = min_track_len)"
   ]
  },
  {
   "cell_type": "markdown",
   "metadata": {},
   "source": [
    "### Track Selection\n",
    "*select a random track - inspect shape*"
   ]
  },
  {
   "cell_type": "code",
   "execution_count": null,
   "metadata": {},
   "outputs": [],
   "source": [
    "i = 9\n",
    "\n",
    "track = utils.SingleTrack(all_tracks, i)\n",
    "utils.plotSingleTrack(track)"
   ]
  },
  {
   "cell_type": "markdown",
   "metadata": {},
   "source": [
    "### Tune Confinement Ratio Threshold and Rolling Window Size\n",
    "*computes p for consecutive sub-trajectories using different sliding windows* <br>\n",
    "*the resulting plot displays the characteristic p  at each position, considering the behavior of the following w positions*"
   ]
  },
  {
   "cell_type": "code",
   "execution_count": null,
   "metadata": {},
   "outputs": [],
   "source": [
    "windows = [10, 20, 30]\n",
    "p_thres = 800\n",
    "\n",
    "conf_ratios = conf_ratio_func.TuneConfinementThreshold(track, frame_rate, conf_thres = p_thres, windows = windows)\n",
    "conf_ratio_func.PlotParameterTunnig(conf_ratios, frame_rate, thres = p_thres, ylim = 1000000, log = True)"
   ]
  },
  {
   "cell_type": "markdown",
   "metadata": {},
   "source": [
    "### Inspect Confined Region\n",
    "*inspect a specific sub-trajectory [start-to-end] - validate/adjust the performance of the computation above*"
   ]
  },
  {
   "cell_type": "code",
   "execution_count": null,
   "metadata": {},
   "outputs": [],
   "source": [
    "start_point = 100\n",
    "end_point = 200\n",
    "\n",
    "utils.plotSingleTrack(track, start = start_point, end = end_point)"
   ]
  },
  {
   "cell_type": "markdown",
   "metadata": {},
   "source": [
    "### Subtrajectory Classification overview\n",
    "*computes the whole analysis using pre-defined w, p_thresh and t_thresh* <br>\n",
    "*confinement periods are colored in red along the selected trajectory in yellow*"
   ]
  },
  {
   "cell_type": "code",
   "execution_count": null,
   "metadata": {},
   "outputs": [],
   "source": [
    "trackID = 9\n",
    "p_thres = 800\n",
    "t_thres = 0.3\n",
    "window = 10\n",
    "\n",
    "# run main function\n",
    "track_score, stats = main.TrajectoryClassification(all_tracks, trackID, p_thres, window, frame_rate, t_thres)"
   ]
  },
  {
   "cell_type": "markdown",
   "metadata": {},
   "source": [
    "### Check Classification Output"
   ]
  },
  {
   "cell_type": "code",
   "execution_count": null,
   "metadata": {},
   "outputs": [],
   "source": [
    "stats"
   ]
  },
  {
   "cell_type": "markdown",
   "metadata": {},
   "source": [
    "<hr>"
   ]
  }
 ],
 "metadata": {
  "kernelspec": {
   "display_name": "Python 3",
   "language": "python",
   "name": "python3"
  },
  "language_info": {
   "codemirror_mode": {
    "name": "ipython",
    "version": 3
   },
   "file_extension": ".py",
   "mimetype": "text/x-python",
   "name": "python",
   "nbconvert_exporter": "python",
   "pygments_lexer": "ipython3",
   "version": "3.8.5"
  }
 },
 "nbformat": 4,
 "nbformat_minor": 4
}
