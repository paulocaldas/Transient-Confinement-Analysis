{
 "cells": [
  {
   "cell_type": "markdown",
   "metadata": {},
   "source": [
    "\n",
    "## Multi-Track Confinement Classification\n",
    "***In this notebook we indentify and quantify transient confinement events in all trajectories from an xml file***\n",
    "<hr>"
   ]
  },
  {
   "cell_type": "markdown",
   "metadata": {},
   "source": [
    "### Multi-track Confinement Classification\n",
    "*imports an xml file and computes analysis for all trajectories - results are saved in .tab file* <br>\n",
    "*check README file for a detailed description of all parameters*"
   ]
  },
  {
   "cell_type": "code",
   "execution_count": null,
   "metadata": {},
   "outputs": [],
   "source": [
    "# select your file\n",
    "file = 'C:/Users/comics/Desktop/IST Austria/trajectory_segmentation_confinementRatio_2021/simulations/Simulation 1_32ms_Tracks.xml'\n",
    "\n",
    "# run main function\n",
    "from bkg_func import main\n",
    "all_tracks_stats = main.TrajectoryClassificationAllTracks(file, min_track_len = 10, tracks  = -1,\n",
    "                                                          window  = 5, p_thres = 1000, t_thres = 0.5,\n",
    "                                                          trim_trajectory_ends= False, \n",
    "                                                          output_folder = 'outputs-examples')"
   ]
  },
  {
   "cell_type": "markdown",
   "metadata": {},
   "source": [
    "<hr>"
   ]
  },
  {
   "cell_type": "markdown",
   "metadata": {},
   "source": [
    "### Multi-track Confinement Classification for Multiple Files\n",
    "*extends the analysis from above to all xml files inside a selected folder* <br>\n",
    "*output tables are saved inside the same folder or in a defined \"output_folder\"*\n"
   ]
  },
  {
   "cell_type": "code",
   "execution_count": null,
   "metadata": {},
   "outputs": [],
   "source": [
    "# write path-to-folder location\n",
    "folder = 'C:/Users/comics/Desktop/IST Austria/trajectory_segmentation_confinementRatio_2021/simulations/conf_time_var'\n",
    "\n",
    "# run main function\n",
    "from bkg_func import main\n",
    "main.TrajectoryClassificationAllFiles(folder, min_track_len = 10, tracks  = -1,\n",
    "                                      window  = 8, p_thres = 800, t_thres = 0.3,\n",
    "                                      trim_trajectory_ends= False, \n",
    "                                      output_folder = folder)"
   ]
  },
  {
   "cell_type": "markdown",
   "metadata": {},
   "source": [
    "<hr>"
   ]
  }
 ],
 "metadata": {
  "kernelspec": {
   "display_name": "Python 3",
   "language": "python",
   "name": "python3"
  },
  "language_info": {
   "codemirror_mode": {
    "name": "ipython",
    "version": 3
   },
   "file_extension": ".py",
   "mimetype": "text/x-python",
   "name": "python",
   "nbconvert_exporter": "python",
   "pygments_lexer": "ipython3",
   "version": "3.8.5"
  }
 },
 "nbformat": 4,
 "nbformat_minor": 4
}
