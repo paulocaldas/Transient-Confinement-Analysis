{
 "cells": [
  {
   "cell_type": "markdown",
   "metadata": {},
   "source": [
    "<hr>\n",
    "\n",
    "## Multi-Track Confinement Classification\n",
    "***In this notebook we indentify and quantify transient confinement events in all trajectories from an xml file***\n",
    "\n",
    "<hr>"
   ]
  },
  {
   "cell_type": "markdown",
   "metadata": {},
   "source": [
    "### Multi-track Confinement Classification\n",
    "*imports an xml file and computes analysis for all trajectories - results are saved in .tab file* <br>\n",
    "*check README file for a detailed description of all parameters*"
   ]
  },
  {
   "cell_type": "code",
   "execution_count": null,
   "metadata": {},
   "outputs": [],
   "source": [
    "# select your file\n",
    "file = 'trajectories-examples/LA_Time_Lapse_23.06.2021_12_57_25_Exp3_51ms_p2_Tracks.xml'\n",
    "\n",
    "# run main function\n",
    "from bkg_func import main\n",
    "all_tracks_stats = main.TrajectoryClassificationAllTracks(file, min_track_len = 10, tracks  = -1,\n",
    "                                                          window  = 5, p_thres = 500, t_thres = 0.5,\n",
    "                                                          trim_trajectory_ends= False, \n",
    "                                                          output_folder = 'outputs-examples')"
   ]
  },
  {
   "cell_type": "markdown",
   "metadata": {},
   "source": [
    "<hr>"
   ]
  },
  {
   "cell_type": "markdown",
   "metadata": {},
   "source": [
    "### Multi-track Confinement Classification for Multiple Files\n",
    "*extends the analysis from above to all xml files inside a selected folder* <br>\n",
    "*output tables are saved inside the same folder or in a defined \"output_folder\"*\n"
   ]
  },
  {
   "cell_type": "code",
   "execution_count": null,
   "metadata": {},
   "outputs": [],
   "source": [
    "# write path-to-folder location\n",
    "folder = 'C:/Users/comics/Desktop/Github_repos/Transient-Confinement-Analysis/trajectories-examples/'\n",
    "\n",
    "# run main function\n",
    "from bkg_func import main\n",
    "main.TrajectoryClassificationAllFiles(folder, min_track_len = 10, tracks  = -1,\n",
    "                                      window  = 5, p_thres = 500, t_thres = 0.5,\n",
    "                                      trim_trajectory_ends= False, \n",
    "                                      output_folder = 'outputs-examples')"
   ]
  },
  {
   "cell_type": "markdown",
   "metadata": {},
   "source": [
    "<hr>"
   ]
  },
  {
   "cell_type": "markdown",
   "metadata": {},
   "source": [
    "<hr>"
   ]
  }
 ],
 "metadata": {
  "kernelspec": {
   "display_name": "Python 3",
   "language": "python",
   "name": "python3"
  },
  "language_info": {
   "codemirror_mode": {
    "name": "ipython",
    "version": 3
   },
   "file_extension": ".py",
   "mimetype": "text/x-python",
   "name": "python",
   "nbconvert_exporter": "python",
   "pygments_lexer": "ipython3",
   "version": "3.8.5"
  }
 },
 "nbformat": 4,
 "nbformat_minor": 4
}
