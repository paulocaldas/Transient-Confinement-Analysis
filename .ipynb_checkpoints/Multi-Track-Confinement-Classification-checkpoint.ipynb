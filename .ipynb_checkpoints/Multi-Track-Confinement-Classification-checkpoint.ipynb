{
 "cells": [
  {
   "cell_type": "markdown",
   "metadata": {},
   "source": [
    "\n",
    "## Multi-Track Confinement Classification\n",
    "***In this notebook we indentify and quantify transient confinement events in all trajectories from an xml file***\n",
    "<hr>"
   ]
  },
  {
   "cell_type": "markdown",
   "metadata": {},
   "source": [
    "### Multi-track Confinement Classification\n",
    "*imports an xml file and computes analysis for all trajectories - results are saved in .tab file* <br>\n",
    "*check README file for a detailed description of all parameters*"
   ]
  },
  {
   "cell_type": "code",
   "execution_count": null,
   "metadata": {},
   "outputs": [
    {
     "name": "stdout",
     "output_type": "stream",
     "text": [
      "138/138 tracks; filter > 3 frames (0.096 sec)\n",
      "p_thresh = 1000nm-2; t_thresh = 0.5s (16.0 frames)\n",
      "track 26/138 - 105 steps\r"
     ]
    }
   ],
   "source": [
    "# select your file\n",
    "file = 'trajectories-examples/LA_Time_Lapse_23.06.2021_12_59_35_Exp3_32ms_p1_Tracks.xml'\n",
    "\n",
    "# run main function\n",
    "from bkg_func import main\n",
    "all_tracks_stats = main.TrajectoryClassificationAllTracks(file, min_track_len = 3, tracks = -1,\n",
    "                                                          window  = 5, p_thres = 1000, t_thres = 0.5,\n",
    "                                                          trim_trajectory_ends= False,\n",
    "                                                          output_folder = 'outputs-examples')"
   ]
  },
  {
   "cell_type": "markdown",
   "metadata": {},
   "source": [
    "<hr>"
   ]
  },
  {
   "cell_type": "markdown",
   "metadata": {},
   "source": [
    "### Multi-track Confinement Classification for Multiple Files\n",
    "*extends the analysis from above to all xml files inside a selected folder* <br>\n",
    "*output tables are saved inside the same folder or in a defined \"output_folder\"*\n"
   ]
  },
  {
   "cell_type": "code",
   "execution_count": 8,
   "metadata": {},
   "outputs": [
    {
     "name": "stdout",
     "output_type": "stream",
     "text": [
      "processing files:\n",
      "Analyze All Tracks for LA_Time_Lapse_23.06.2021_12_57_25_Exp3_51ms_p2_Tracks.xml\n",
      "Analyze All Tracks for LA_Time_Lapse_23.06.2021_12_59_35_Exp3_32ms_p1_Tracks.xml\n",
      "done\n"
     ]
    }
   ],
   "source": [
    "# write path-to-folder location\n",
    "folder = 'trajectories-examples/'\n",
    "\n",
    "# run main function\n",
    "from bkg_func import main\n",
    "main.TrajectoryClassificationAllFiles(folder, min_track_len = 10, tracks  = 3,\n",
    "                                      window  = 8, p_thres = 800, t_thres = 0.3,\n",
    "                                      trim_trajectory_ends= False, \n",
    "                                      output_folder = folder)"
   ]
  },
  {
   "cell_type": "markdown",
   "metadata": {},
   "source": [
    "<hr>"
   ]
  }
 ],
 "metadata": {
  "kernelspec": {
   "display_name": "Python 3 (ipykernel)",
   "language": "python",
   "name": "python3"
  },
  "language_info": {
   "codemirror_mode": {
    "name": "ipython",
    "version": 3
   },
   "file_extension": ".py",
   "mimetype": "text/x-python",
   "name": "python",
   "nbconvert_exporter": "python",
   "pygments_lexer": "ipython3",
   "version": "3.11.7"
  }
 },
 "nbformat": 4,
 "nbformat_minor": 4
}
