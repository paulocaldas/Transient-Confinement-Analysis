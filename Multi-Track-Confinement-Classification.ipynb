{
 "cells": [
  {
   "cell_type": "markdown",
   "metadata": {},
   "source": [
    "<hr>\n",
    "\n",
    "## Multi-Track-Confinement-Classification\n",
    "\n",
    "- In this notebook you can run the analysis for all tracks in a XML file at once\n",
    "- for now, the output returns the lifetime of confined segments vs. free diffusion segments\n",
    "- tracks is the number of trajectories to analyze; default is -1 (all tracks) \n",
    "- window (w): is the length of the time window (in frames)\n",
    "- confinement ratio threshold (p_thres): value above which a subsegment is considered confined (dimensionless)\n",
    "- confinement time threshold (t_thres): minimum time (in sec) a confined event needs to last to be considered (converted in frames along the script)\n",
    "- min_track_len: discards trajectories shorter than this value (in frames) when reading the XML file\n",
    "- trim_trajectory_ends: if True, discards confined events identified at the end or start of each trajectory\n",
    "\n",
    "<hr>"
   ]
  },
  {
   "cell_type": "code",
   "execution_count": null,
   "metadata": {},
   "outputs": [],
   "source": [
    "# select your file\n",
    "file = 'trajectories-examples/LA_Time_Lapse_23.06.2021_12_57_25_Exp3_51ms_p2_Tracks.xml'\n",
    "\n",
    "# run main function\n",
    "from bkg_func import main\n",
    "lifetimes, conf_counts, cage_area = main.TrajectoryClassificationAllTracks(file, min_track_len = 30, tracks  = 1,\n",
    "                                                                window  = 5, p_thres = 100, t_thres = 0.5,\n",
    "                                                                trim_trajectory_ends= False)"
   ]
  },
  {
   "cell_type": "markdown",
   "metadata": {},
   "source": [
    "<hr>"
   ]
  }
 ],
 "metadata": {
  "kernelspec": {
   "display_name": "Python 3",
   "language": "python",
   "name": "python3"
  },
  "language_info": {
   "codemirror_mode": {
    "name": "ipython",
    "version": 3
   },
   "file_extension": ".py",
   "mimetype": "text/x-python",
   "name": "python",
   "nbconvert_exporter": "python",
   "pygments_lexer": "ipython3",
   "version": "3.8.5"
  }
 },
 "nbformat": 4,
 "nbformat_minor": 4
}
